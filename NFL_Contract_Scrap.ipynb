{
  "nbformat": 4,
  "nbformat_minor": 0,
  "metadata": {
    "colab": {
      "provenance": [],
      "authorship_tag": "ABX9TyNpEZc5zxqNOiQi9XuWO3il",
      "include_colab_link": true
    },
    "kernelspec": {
      "name": "python3",
      "display_name": "Python 3"
    },
    "language_info": {
      "name": "python"
    }
  },
  "cells": [
    {
      "cell_type": "markdown",
      "metadata": {
        "id": "view-in-github",
        "colab_type": "text"
      },
      "source": [
        "<a href=\"https://colab.research.google.com/github/SHodapp117/Portfolio-/blob/main/NFL_Contract_Scrap.ipynb\" target=\"_parent\"><img src=\"https://colab.research.google.com/assets/colab-badge.svg\" alt=\"Open In Colab\"/></a>"
      ]
    },
    {
      "cell_type": "code",
      "execution_count": 25,
      "metadata": {
        "id": "RHIUx6iZVZql"
      },
      "outputs": [],
      "source": [
        "import requests\n",
        "from bs4 import BeautifulSoup\n",
        "import pandas as pd\n",
        "\n",
        "def scrape_website(url):\n",
        "    # Send a GET request to the URL\n",
        "    response = requests.get(url)\n",
        "\n",
        "    # Check if the request was successful (status code 200)\n",
        "    if response.status_code == 200:\n",
        "        # Parse the HTML content using BeautifulSoup\n",
        "        soup = BeautifulSoup(response.text, 'html.parser')\n",
        "\n",
        "        # Find the HTML table (adjust the selector based on the website structure)\n",
        "        table = soup.find('table')\n",
        "\n",
        "        if table:\n",
        "            # Extract data from the table\n",
        "            rows = table.find_all('tr')\n",
        "\n",
        "            data = []\n",
        "\n",
        "            for row in rows:\n",
        "                # Extract data from each row (adjust the selector based on the website structure)\n",
        "                columns = row.find_all('td')\n",
        "\n",
        "                row_data = [column.get_text(strip=True) for column in columns]\n",
        "                data.append(row_data)\n",
        "        else:\n",
        "            print(\"No table found on the webpage.\")\n",
        "\n",
        "    else:\n",
        "        print(f\"Failed to retrieve the webpage. Status code: {response.status_code}\")\n",
        "\n",
        "    return data\n",
        "\n"
      ]
    },
    {
      "cell_type": "code",
      "source": [
        "WR = scrape_website('https://overthecap.com/position/wide-receiver')"
      ],
      "metadata": {
        "id": "HuqK1l6bqT0-"
      },
      "execution_count": 26,
      "outputs": []
    },
    {
      "cell_type": "code",
      "source": [
        "QB = scrape_website('https://overthecap.com/position/quarterback')"
      ],
      "metadata": {
        "id": "JIj6RJ0kmmmA"
      },
      "execution_count": 27,
      "outputs": []
    },
    {
      "cell_type": "code",
      "source": [
        "RB = scrape_website('https://overthecap.com/position/running-back')"
      ],
      "metadata": {
        "id": "w-opZyKlnYzM"
      },
      "execution_count": 28,
      "outputs": []
    },
    {
      "cell_type": "code",
      "source": [
        "TE = scrape_website('https://overthecap.com/position/tight-end')"
      ],
      "metadata": {
        "id": "LjPNqf47oGI7"
      },
      "execution_count": 29,
      "outputs": []
    },
    {
      "cell_type": "code",
      "source": [
        "Offense_Contract = WR + QB + RB + TE"
      ],
      "metadata": {
        "id": "gFCtQ9Maqipg"
      },
      "execution_count": 30,
      "outputs": []
    },
    {
      "cell_type": "code",
      "source": [
        "print(type(Offense_Contract[0]))"
      ],
      "metadata": {
        "colab": {
          "base_uri": "https://localhost:8080/"
        },
        "id": "iuUUblrzsIcI",
        "outputId": "69eba327-db1b-41ad-e573-b8c7644b2f92"
      },
      "execution_count": 31,
      "outputs": [
        {
          "output_type": "stream",
          "name": "stdout",
          "text": [
            "<class 'list'>\n"
          ]
        }
      ]
    },
    {
      "cell_type": "code",
      "source": [
        "df = pd.DataFrame(Offense_Contract, columns=['Player', 'Team', 'Age', 'Total Contract Value', 'Avg_Value / Year', 'Total Guaranteed', 'Fully Guaranteed', 'Free Agency'])\n"
      ],
      "metadata": {
        "id": "aUKCOv_oq5Kh"
      },
      "execution_count": 32,
      "outputs": []
    },
    {
      "cell_type": "code",
      "source": [
        "unique_free_agency_values = df['Free Agency'].unique()\n",
        "print(unique_free_agency_values)"
      ],
      "metadata": {
        "colab": {
          "base_uri": "https://localhost:8080/"
        },
        "id": "fcnqL8Wtq7QP",
        "outputId": "7e3e3010-50f0-4c35-a384-c675becc3b25"
      },
      "execution_count": 33,
      "outputs": [
        {
          "output_type": "stream",
          "name": "stdout",
          "text": [
            "[None '2027 UFA' '2027 Void' '2028 UFA' '2026 UFA' '2026 Void' '2025 UFA'\n",
            " '2025 Void' '2024 Void' '2024 UFA' '2026 RFA' '2024 ERFA' '2024 RFA'\n",
            " '2025 RFA' '2025 ERFA' '2024 SFA' '2030 Void' '2030 UFA' '2028 Void'\n",
            " '2029 Void' '2029 UFA' '2032 Void']\n"
          ]
        }
      ]
    },
    {
      "cell_type": "code",
      "source": [
        "#quick salary overview\n",
        "# Display the first few rows of the DataFrame\n",
        "print(df.head())\n",
        "\n",
        "# Get basic summary statistics\n",
        "print(df.describe())\n",
        "\n",
        "# Check for missing values\n",
        "print(df.isnull().sum())\n",
        "\n",
        "# Check data types of columns\n",
        "print(df.dtypes)"
      ],
      "metadata": {
        "colab": {
          "base_uri": "https://localhost:8080/"
        },
        "id": "DrKbB3qlx044",
        "outputId": "df878cf2-01bf-4052-b552-22608176046f"
      },
      "execution_count": 34,
      "outputs": [
        {
          "output_type": "stream",
          "name": "stdout",
          "text": [
            "          Player      Team   Age Total Contract Value Avg_Value / Year  \\\n",
            "0           None      None  None                 None             None   \n",
            "1    Tyreek Hill  Dolphins    29         $120,000,000      $30,000,000   \n",
            "2  Davante Adams   Raiders    31         $140,000,000      $28,000,000   \n",
            "3    Cooper Kupp      Rams    30          $80,100,000      $26,700,000   \n",
            "4     A.J. Brown    Eagles    26         $100,000,000      $25,000,000   \n",
            "\n",
            "  Total Guaranteed Fully Guaranteed Free Agency  \n",
            "0             None             None        None  \n",
            "1      $72,200,000      $52,535,000    2027 UFA  \n",
            "2      $65,710,000      $22,750,000    2027 UFA  \n",
            "3      $75,000,000      $35,000,000    2027 UFA  \n",
            "4      $56,470,471      $56,470,471   2027 Void  \n",
            "             Player    Team  Age Total Contract Value Avg_Value / Year  \\\n",
            "count           750     750  750                  750              750   \n",
            "unique          750      32   20                  400              382   \n",
            "top     Tyreek Hill  Chiefs   24             $216,000         $216,000   \n",
            "freq              1      27  124                  117              117   \n",
            "\n",
            "       Total Guaranteed Fully Guaranteed Free Agency  \n",
            "count               750              750         750  \n",
            "unique              376              384          21  \n",
            "top                  $0               $0    2024 SFA  \n",
            "freq                289              287         182  \n",
            "Player                  4\n",
            "Team                    4\n",
            "Age                     4\n",
            "Total Contract Value    4\n",
            "Avg_Value / Year        4\n",
            "Total Guaranteed        4\n",
            "Fully Guaranteed        4\n",
            "Free Agency             4\n",
            "dtype: int64\n",
            "Player                  object\n",
            "Team                    object\n",
            "Age                     object\n",
            "Total Contract Value    object\n",
            "Avg_Value / Year        object\n",
            "Total Guaranteed        object\n",
            "Fully Guaranteed        object\n",
            "Free Agency             object\n",
            "dtype: object\n"
          ]
        }
      ]
    },
    {
      "cell_type": "code",
      "source": [],
      "metadata": {
        "id": "FHP8zxcUyB23"
      },
      "execution_count": 34,
      "outputs": []
    }
  ]
}